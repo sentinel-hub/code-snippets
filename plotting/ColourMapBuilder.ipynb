{
 "cells": [
  {
   "attachments": {},
   "cell_type": "markdown",
   "id": "70238fa0",
   "metadata": {},
   "source": [
    "# Colourmap builder\n",
    "\n",
    "Convert a standard matplotlib colour ramp into a colour ramp that can be used in a Sentinel Hub Evalscript."
   ]
  },
  {
   "cell_type": "code",
   "execution_count": 2,
   "id": "7dff5e41",
   "metadata": {},
   "outputs": [],
   "source": [
    "from matplotlib import colors, colorbar, colormaps\n",
    "import matplotlib.pyplot as plt\n",
    "import numpy as np"
   ]
  },
  {
   "attachments": {},
   "cell_type": "markdown",
   "id": "858068c6",
   "metadata": {},
   "source": [
    "## Set input parameters\n",
    "\n",
    "To build our colour ramp, we will need:\n",
    "\n",
    "- The name of the matplotlib colourmap that we will use\n",
    "- The number of intervals required\n",
    "- The starting value of the colour ramp\n",
    "- The end value of the colour map"
   ]
  },
  {
   "cell_type": "code",
   "execution_count": 3,
   "id": "51d5c9b3",
   "metadata": {},
   "outputs": [],
   "source": [
    "# Set a colour map name from matplotlib: https://matplotlib.org/stable/tutorials/colors/colormaps.html#sphx-glr-tutorials-colors-colormaps-py\n",
    "colormap = \"YlGn\"\n",
    "\n",
    "# Number of colours\n",
    "mylen = 10\n",
    "\n",
    "# Start value\n",
    "start = 0\n",
    "\n",
    "# End value\n",
    "stop = 100"
   ]
  },
  {
   "attachments": {},
   "cell_type": "markdown",
   "id": "777bdf01",
   "metadata": {},
   "source": [
    "The following cell contains the function to build a colour ramp fit for an Evalscript."
   ]
  },
  {
   "cell_type": "code",
   "execution_count": 4,
   "id": "99ddaf69",
   "metadata": {},
   "outputs": [],
   "source": [
    "def create_color_ramp(cname, length, start, stop):\n",
    "    \"\"\"\n",
    "    Create a custom colour map for an Evalscript based on a matplotlib colour map.\n",
    "\n",
    "    Args:\n",
    "        cname (str): Name of the colour map.\n",
    "        length (int): Number of colours in the colour map.\n",
    "        start (float): Starting point of the colour range.\n",
    "        stop (float): Ending point of the colour range.\n",
    "\n",
    "    Returns:\n",
    "        list: A custom colour map object.\n",
    "\n",
    "    Example:\n",
    "        >>> cmap = create_colormap('my_cmap', 100, 0.2, 0.8)\n",
    "    \"\"\"\n",
    "\n",
    "    # Make range\n",
    "    my_range = list(np.arange(start, stop + stop / mylen, stop / mylen))\n",
    "\n",
    "    # Get colours for range\n",
    "    cmap = colormaps.get_cmap(colormap).resampled(len(my_range))\n",
    "\n",
    "    # Make list for Evalscript\n",
    "    output_bar = []\n",
    "\n",
    "    for i in list(zip(my_range, range(cmap.N))):\n",
    "        rgba = cmap(i[1])\n",
    "        output_bar.append([i[0], colors.rgb2hex(rgba).replace(\"#\", \"0x\")])\n",
    "\n",
    "    return output_bar"
   ]
  },
  {
   "attachments": {},
   "cell_type": "markdown",
   "id": "1b47732a",
   "metadata": {},
   "source": [
    "Create a colour ramp based on the input parameters specified above."
   ]
  },
  {
   "cell_type": "code",
   "execution_count": 5,
   "id": "52163f9e",
   "metadata": {},
   "outputs": [
    {
     "data": {
      "text/plain": [
       "[[0.0, '0xffffe5'],\n",
       " [10.0, '0xf9fdc2'],\n",
       " [20.0, '0xe5f5ac'],\n",
       " [30.0, '0xc7e89b'],\n",
       " [40.0, '0xa2d88a'],\n",
       " [50.0, '0x78c679'],\n",
       " [60.0, '0x4cb063'],\n",
       " [70.0, '0x2f944d'],\n",
       " [80.0, '0x15793e'],\n",
       " [90.0, '0x006134'],\n",
       " [100.0, '0x004529']]"
      ]
     },
     "execution_count": 5,
     "metadata": {},
     "output_type": "execute_result"
    }
   ],
   "source": [
    "eval_cm = create_color_ramp(colormap, mylen, start, stop)\n",
    "\n",
    "eval_cm"
   ]
  },
  {
   "attachments": {},
   "cell_type": "markdown",
   "id": "14b08913",
   "metadata": {},
   "source": [
    "This list can now be integrated in an Evalscript as follows (see https://docs.sentinel-hub.com/api/latest/evalscript/functions/#colorrampvisualizer):\n",
    "\n",
    "```\n",
    "const ramp = [[0.0, '0xffffe5'],\n",
    " [10.0, '0xf9fdc2'],\n",
    " [20.0, '0xe5f5ac'],\n",
    " [30.0, '0xc7e89b'],\n",
    " [40.0, '0xa2d88a'],\n",
    " [50.0, '0x78c679'],\n",
    " [60.0, '0x4cb063'],\n",
    " [70.0, '0x2f944d'],\n",
    " [80.0, '0x15793e'],\n",
    " [90.0, '0x006134'],\n",
    " [100.0, '0x004529']]\n",
    "\n",
    " const visualizer = new ColorRampVisualizer(ramp);\n",
    "\n",
    "visualizer.process(10); // [ 0.98, 0.99, 0.76 ]\n",
    "visualizer.process(100); // [ 0, 0.27, 0.16 ]\n",
    "\n",
    "\n",
    "```"
   ]
  },
  {
   "attachments": {},
   "cell_type": "markdown",
   "id": "57a18889",
   "metadata": {},
   "source": [
    "## Plot the colour bar for the colour ramp created\n",
    "\n",
    "We can also create a colour bar for our newly created colour ramp. The cell below demonstrates an example of plotting the colour bar corresponding to the colour ramp described above."
   ]
  },
  {
   "cell_type": "code",
   "execution_count": 6,
   "id": "8c790da1",
   "metadata": {},
   "outputs": [
    {
     "data": {
      "image/png": "[encoded data removed]",
      "text/plain": [
       "<Figure size 640x480 with 1 Axes>"
      ]
     },
     "metadata": {},
     "output_type": "display_data"
    }
   ],
   "source": [
    "# Make a plot for the colour bar\n",
    "fig = plt.figure()\n",
    "ax = fig.add_axes([0.05, 0.80, 0.9, 0.1])\n",
    "\n",
    "cb = colorbar.ColorbarBase(ax, orientation='horizontal', \n",
    "                               cmap=colormap,\n",
    "                               norm=colors.Normalize(start, stop),  # vmin and vmax\n",
    "                               extend=\"both\",\n",
    "                               label='My color bar',\n",
    "                               ticks=[x[0] for x in eval_cm])"
   ]
  }
 ],
 "metadata": {
  "kernelspec": {
   "display_name": "drought",
   "language": "python",
   "name": "python3"
  },
  "language_info": {
   "codemirror_mode": {
    "name": "ipython",
    "version": 3
   },
   "file_extension": ".py",
   "mimetype": "text/x-python",
   "name": "python",
   "nbconvert_exporter": "python",
   "pygments_lexer": "ipython3",
   "version": "3.8.10"
  }
 },
 "nbformat": 4,
 "nbformat_minor": 5
}
